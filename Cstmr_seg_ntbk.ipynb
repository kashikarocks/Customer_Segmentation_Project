{
 "cells": [
  {
   "cell_type": "markdown",
   "id": "9c8a667c",
   "metadata": {},
   "source": [
    "Import Necessary Libraries\n",
    "\n",
    "1)pandas :- Import/Exporting Data, Manipulating Data, Other Data Analysis Task\n",
    "2) Numpy :-\tWorking with Numerical Value\n",
    "3) Matplotlib and Seaborn :-\tCreating Visualization"
   ]
  },
  {
   "cell_type": "code",
   "execution_count": 1,
   "id": "1dcb92b0",
   "metadata": {},
   "outputs": [],
   "source": [
    "import pandas as pd\n",
    "import numpy as np\n",
    "import matplotlib.pyplot as plt\n",
    "import seaborn as sns"
   ]
  },
  {
   "cell_type": "markdown",
   "id": "dde5e2b3",
   "metadata": {},
   "source": [
    "Load your data"
   ]
  },
  {
   "cell_type": "code",
   "execution_count": 2,
   "id": "c8b3de02",
   "metadata": {},
   "outputs": [
    {
     "data": {
      "text/html": [
       "<div>\n",
       "<style scoped>\n",
       "    .dataframe tbody tr th:only-of-type {\n",
       "        vertical-align: middle;\n",
       "    }\n",
       "\n",
       "    .dataframe tbody tr th {\n",
       "        vertical-align: top;\n",
       "    }\n",
       "\n",
       "    .dataframe thead th {\n",
       "        text-align: right;\n",
       "    }\n",
       "</style>\n",
       "<table border=\"1\" class=\"dataframe\">\n",
       "  <thead>\n",
       "    <tr style=\"text-align: right;\">\n",
       "      <th></th>\n",
       "      <th>CustomerKey</th>\n",
       "      <th>FirstName</th>\n",
       "      <th>LastName</th>\n",
       "      <th>BirthDate</th>\n",
       "      <th>MaritalStatus</th>\n",
       "      <th>Gender</th>\n",
       "      <th>EmailAddress</th>\n",
       "      <th>YearlyIncome</th>\n",
       "      <th>TotalChildren</th>\n",
       "      <th>NumberChildrenAtHome</th>\n",
       "      <th>...</th>\n",
       "      <th>StateProvinceName</th>\n",
       "      <th>Country</th>\n",
       "      <th>PostalCode</th>\n",
       "      <th>ProductName</th>\n",
       "      <th>ProductSubcategoryName</th>\n",
       "      <th>ProductCategoryName</th>\n",
       "      <th>TotalOrders</th>\n",
       "      <th>TotalSalesAmount</th>\n",
       "      <th>LastOrderDate</th>\n",
       "      <th>FirstOrderDate</th>\n",
       "    </tr>\n",
       "  </thead>\n",
       "  <tbody>\n",
       "    <tr>\n",
       "      <th>0</th>\n",
       "      <td>11000</td>\n",
       "      <td>Jon</td>\n",
       "      <td>Yang</td>\n",
       "      <td>06-10-1971</td>\n",
       "      <td>M</td>\n",
       "      <td>M</td>\n",
       "      <td>jon24@adventure-works.com</td>\n",
       "      <td>90000</td>\n",
       "      <td>2</td>\n",
       "      <td>0</td>\n",
       "      <td>...</td>\n",
       "      <td>Queensland</td>\n",
       "      <td>Australia</td>\n",
       "      <td>4700</td>\n",
       "      <td>Fender Set - Mountain</td>\n",
       "      <td>Fenders</td>\n",
       "      <td>Accessories</td>\n",
       "      <td>1</td>\n",
       "      <td>21.98</td>\n",
       "      <td>2013-01-18 0:00</td>\n",
       "      <td>2013-01-18 0:00</td>\n",
       "    </tr>\n",
       "    <tr>\n",
       "      <th>1</th>\n",
       "      <td>11000</td>\n",
       "      <td>Jon</td>\n",
       "      <td>Yang</td>\n",
       "      <td>06-10-1971</td>\n",
       "      <td>M</td>\n",
       "      <td>M</td>\n",
       "      <td>jon24@adventure-works.com</td>\n",
       "      <td>90000</td>\n",
       "      <td>2</td>\n",
       "      <td>0</td>\n",
       "      <td>...</td>\n",
       "      <td>Queensland</td>\n",
       "      <td>Australia</td>\n",
       "      <td>4700</td>\n",
       "      <td>Mountain-100 Silver, 38</td>\n",
       "      <td>Mountain Bikes</td>\n",
       "      <td>Bikes</td>\n",
       "      <td>1</td>\n",
       "      <td>3399.99</td>\n",
       "      <td>2011-01-19 0:00</td>\n",
       "      <td>2011-01-19 0:00</td>\n",
       "    </tr>\n",
       "    <tr>\n",
       "      <th>2</th>\n",
       "      <td>11000</td>\n",
       "      <td>Jon</td>\n",
       "      <td>Yang</td>\n",
       "      <td>06-10-1971</td>\n",
       "      <td>M</td>\n",
       "      <td>M</td>\n",
       "      <td>jon24@adventure-works.com</td>\n",
       "      <td>90000</td>\n",
       "      <td>2</td>\n",
       "      <td>0</td>\n",
       "      <td>...</td>\n",
       "      <td>Queensland</td>\n",
       "      <td>Australia</td>\n",
       "      <td>4700</td>\n",
       "      <td>Mountain-200 Silver, 38</td>\n",
       "      <td>Mountain Bikes</td>\n",
       "      <td>Bikes</td>\n",
       "      <td>1</td>\n",
       "      <td>2319.99</td>\n",
       "      <td>2013-01-18 0:00</td>\n",
       "      <td>2013-01-18 0:00</td>\n",
       "    </tr>\n",
       "    <tr>\n",
       "      <th>3</th>\n",
       "      <td>11000</td>\n",
       "      <td>Jon</td>\n",
       "      <td>Yang</td>\n",
       "      <td>06-10-1971</td>\n",
       "      <td>M</td>\n",
       "      <td>M</td>\n",
       "      <td>jon24@adventure-works.com</td>\n",
       "      <td>90000</td>\n",
       "      <td>2</td>\n",
       "      <td>0</td>\n",
       "      <td>...</td>\n",
       "      <td>Queensland</td>\n",
       "      <td>Australia</td>\n",
       "      <td>4700</td>\n",
       "      <td>Short-Sleeve Classic Jersey, S</td>\n",
       "      <td>Jerseys</td>\n",
       "      <td>Clothing</td>\n",
       "      <td>1</td>\n",
       "      <td>53.99</td>\n",
       "      <td>2013-05-03 0:00</td>\n",
       "      <td>2013-05-03 0:00</td>\n",
       "    </tr>\n",
       "    <tr>\n",
       "      <th>4</th>\n",
       "      <td>11000</td>\n",
       "      <td>Jon</td>\n",
       "      <td>Yang</td>\n",
       "      <td>06-10-1971</td>\n",
       "      <td>M</td>\n",
       "      <td>M</td>\n",
       "      <td>jon24@adventure-works.com</td>\n",
       "      <td>90000</td>\n",
       "      <td>2</td>\n",
       "      <td>0</td>\n",
       "      <td>...</td>\n",
       "      <td>Queensland</td>\n",
       "      <td>Australia</td>\n",
       "      <td>4700</td>\n",
       "      <td>Sport-100 Helmet, Red</td>\n",
       "      <td>Helmets</td>\n",
       "      <td>Accessories</td>\n",
       "      <td>1</td>\n",
       "      <td>34.99</td>\n",
       "      <td>2013-05-03 0:00</td>\n",
       "      <td>2013-05-03 0:00</td>\n",
       "    </tr>\n",
       "  </tbody>\n",
       "</table>\n",
       "<p>5 rows × 26 columns</p>\n",
       "</div>"
      ],
      "text/plain": [
       "   CustomerKey FirstName LastName   BirthDate MaritalStatus Gender  \\\n",
       "0        11000       Jon     Yang  06-10-1971             M      M   \n",
       "1        11000       Jon     Yang  06-10-1971             M      M   \n",
       "2        11000       Jon     Yang  06-10-1971             M      M   \n",
       "3        11000       Jon     Yang  06-10-1971             M      M   \n",
       "4        11000       Jon     Yang  06-10-1971             M      M   \n",
       "\n",
       "                EmailAddress  YearlyIncome  TotalChildren  \\\n",
       "0  jon24@adventure-works.com         90000              2   \n",
       "1  jon24@adventure-works.com         90000              2   \n",
       "2  jon24@adventure-works.com         90000              2   \n",
       "3  jon24@adventure-works.com         90000              2   \n",
       "4  jon24@adventure-works.com         90000              2   \n",
       "\n",
       "   NumberChildrenAtHome  ... StateProvinceName    Country  PostalCode  \\\n",
       "0                     0  ...        Queensland  Australia        4700   \n",
       "1                     0  ...        Queensland  Australia        4700   \n",
       "2                     0  ...        Queensland  Australia        4700   \n",
       "3                     0  ...        Queensland  Australia        4700   \n",
       "4                     0  ...        Queensland  Australia        4700   \n",
       "\n",
       "                      ProductName ProductSubcategoryName ProductCategoryName  \\\n",
       "0           Fender Set - Mountain                Fenders         Accessories   \n",
       "1         Mountain-100 Silver, 38         Mountain Bikes               Bikes   \n",
       "2         Mountain-200 Silver, 38         Mountain Bikes               Bikes   \n",
       "3  Short-Sleeve Classic Jersey, S                Jerseys            Clothing   \n",
       "4           Sport-100 Helmet, Red                Helmets         Accessories   \n",
       "\n",
       "  TotalOrders TotalSalesAmount    LastOrderDate   FirstOrderDate  \n",
       "0           1            21.98  2013-01-18 0:00  2013-01-18 0:00  \n",
       "1           1          3399.99  2011-01-19 0:00  2011-01-19 0:00  \n",
       "2           1          2319.99  2013-01-18 0:00  2013-01-18 0:00  \n",
       "3           1            53.99  2013-05-03 0:00  2013-05-03 0:00  \n",
       "4           1            34.99  2013-05-03 0:00  2013-05-03 0:00  \n",
       "\n",
       "[5 rows x 26 columns]"
      ]
     },
     "execution_count": 2,
     "metadata": {},
     "output_type": "execute_result"
    }
   ],
   "source": [
    "df = pd.read_csv('/home/kashika/Customer_Seg_Prjct/Cstmr_Dataset.csv')\n",
    "df.head()"
   ]
  },
  {
   "cell_type": "markdown",
   "id": "3bfa39a0",
   "metadata": {},
   "source": [
    "Check for null values"
   ]
  },
  {
   "cell_type": "code",
   "execution_count": 3,
   "id": "f22d8bf5",
   "metadata": {},
   "outputs": [
    {
     "name": "stdout",
     "output_type": "stream",
     "text": [
      "<class 'pandas.core.frame.DataFrame'>\n",
      "RangeIndex: 58922 entries, 0 to 58921\n",
      "Data columns (total 26 columns):\n",
      " #   Column                  Non-Null Count  Dtype  \n",
      "---  ------                  --------------  -----  \n",
      " 0   CustomerKey             58922 non-null  int64  \n",
      " 1   FirstName               58922 non-null  object \n",
      " 2   LastName                58922 non-null  object \n",
      " 3   BirthDate               58922 non-null  object \n",
      " 4   MaritalStatus           58922 non-null  object \n",
      " 5   Gender                  58922 non-null  object \n",
      " 6   EmailAddress            58922 non-null  object \n",
      " 7   YearlyIncome            58922 non-null  int64  \n",
      " 8   TotalChildren           58922 non-null  int64  \n",
      " 9   NumberChildrenAtHome    58922 non-null  int64  \n",
      " 10  Education               58922 non-null  object \n",
      " 11  Occupation              58922 non-null  object \n",
      " 12  HouseOwnerFlag          58922 non-null  int64  \n",
      " 13  NumberCarsOwned         58922 non-null  int64  \n",
      " 14  CommuteDistance         58922 non-null  object \n",
      " 15  City                    58922 non-null  object \n",
      " 16  StateProvinceName       58922 non-null  object \n",
      " 17  Country                 58922 non-null  object \n",
      " 18  PostalCode              58922 non-null  object \n",
      " 19  ProductName             58922 non-null  object \n",
      " 20  ProductSubcategoryName  58922 non-null  object \n",
      " 21  ProductCategoryName     58922 non-null  object \n",
      " 22  TotalOrders             58922 non-null  int64  \n",
      " 23  TotalSalesAmount        58922 non-null  float64\n",
      " 24  LastOrderDate           58922 non-null  object \n",
      " 25  FirstOrderDate          58922 non-null  object \n",
      "dtypes: float64(1), int64(7), object(18)\n",
      "memory usage: 11.7+ MB\n"
     ]
    }
   ],
   "source": [
    "df.info()"
   ]
  },
  {
   "cell_type": "code",
   "execution_count": 4,
   "id": "92d3ae2c",
   "metadata": {},
   "outputs": [],
   "source": [
    "# Convert date columns to datetime\n",
    "df['LastOrderDate'] = pd.to_datetime(df['LastOrderDate'], errors='coerce')\n",
    "df['FirstOrderDate'] = pd.to_datetime(df['FirstOrderDate'], errors='coerce')"
   ]
  },
  {
   "cell_type": "code",
   "execution_count": 5,
   "id": "db19e56b",
   "metadata": {},
   "outputs": [],
   "source": [
    "# Drop irrelevant columns for RFM (keep CustomerKey, LastOrderDate, TotalOrders, TotalSalesAmount)\n",
    "rfm_df = df[['CustomerKey', 'LastOrderDate', 'TotalOrders', 'TotalSalesAmount']].copy()"
   ]
  },
  {
   "cell_type": "code",
   "execution_count": 6,
   "id": "fdf1eef3",
   "metadata": {},
   "outputs": [],
   "source": [
    "# Set reference date as one day after the most recent purchase\n",
    "reference_date = rfm_df['LastOrderDate'].max() + pd.Timedelta(days=1)\n",
    "\n",
    "# Group by CustomerKey in case there are multiple records per customer\n",
    "rfm = rfm_df.groupby('CustomerKey').agg({\n",
    "    'LastOrderDate': lambda x: (reference_date - x.max()).days,  # Recency\n",
    "    'TotalOrders': 'sum',                                        # Frequency\n",
    "    'TotalSalesAmount': 'sum'                                    # Monetary\n",
    "}).reset_index()\n",
    "\n",
    "rfm.rename(columns={\n",
    "    'LastOrderDate': 'Recency',\n",
    "    'TotalOrders': 'Frequency',\n",
    "    'TotalSalesAmount': 'Monetary'\n",
    "}, inplace=True)\n"
   ]
  },
  {
   "cell_type": "markdown",
   "id": "0da4b761",
   "metadata": {},
   "source": [
    "# Assign RFM Scores\n"
   ]
  },
  {
   "cell_type": "code",
   "execution_count": 7,
   "id": "db893763",
   "metadata": {},
   "outputs": [
    {
     "data": {
      "text/html": [
       "<div>\n",
       "<style scoped>\n",
       "    .dataframe tbody tr th:only-of-type {\n",
       "        vertical-align: middle;\n",
       "    }\n",
       "\n",
       "    .dataframe tbody tr th {\n",
       "        vertical-align: top;\n",
       "    }\n",
       "\n",
       "    .dataframe thead th {\n",
       "        text-align: right;\n",
       "    }\n",
       "</style>\n",
       "<table border=\"1\" class=\"dataframe\">\n",
       "  <thead>\n",
       "    <tr style=\"text-align: right;\">\n",
       "      <th></th>\n",
       "      <th>CustomerKey</th>\n",
       "      <th>Recency</th>\n",
       "      <th>Frequency</th>\n",
       "      <th>Monetary</th>\n",
       "      <th>R_Score</th>\n",
       "      <th>F_Score</th>\n",
       "      <th>M_Score</th>\n",
       "      <th>RFM_Score</th>\n",
       "    </tr>\n",
       "  </thead>\n",
       "  <tbody>\n",
       "    <tr>\n",
       "      <th>0</th>\n",
       "      <td>11000</td>\n",
       "      <td>271</td>\n",
       "      <td>8</td>\n",
       "      <td>8248.99</td>\n",
       "      <td>2</td>\n",
       "      <td>5</td>\n",
       "      <td>5</td>\n",
       "      <td>12</td>\n",
       "    </tr>\n",
       "    <tr>\n",
       "      <th>1</th>\n",
       "      <td>11001</td>\n",
       "      <td>50</td>\n",
       "      <td>11</td>\n",
       "      <td>6383.88</td>\n",
       "      <td>5</td>\n",
       "      <td>5</td>\n",
       "      <td>5</td>\n",
       "      <td>15</td>\n",
       "    </tr>\n",
       "    <tr>\n",
       "      <th>2</th>\n",
       "      <td>11002</td>\n",
       "      <td>340</td>\n",
       "      <td>4</td>\n",
       "      <td>8114.04</td>\n",
       "      <td>1</td>\n",
       "      <td>4</td>\n",
       "      <td>5</td>\n",
       "      <td>10</td>\n",
       "    </tr>\n",
       "    <tr>\n",
       "      <th>3</th>\n",
       "      <td>11003</td>\n",
       "      <td>264</td>\n",
       "      <td>9</td>\n",
       "      <td>8139.29</td>\n",
       "      <td>2</td>\n",
       "      <td>5</td>\n",
       "      <td>5</td>\n",
       "      <td>12</td>\n",
       "    </tr>\n",
       "    <tr>\n",
       "      <th>4</th>\n",
       "      <td>11004</td>\n",
       "      <td>273</td>\n",
       "      <td>6</td>\n",
       "      <td>8196.01</td>\n",
       "      <td>2</td>\n",
       "      <td>5</td>\n",
       "      <td>5</td>\n",
       "      <td>12</td>\n",
       "    </tr>\n",
       "  </tbody>\n",
       "</table>\n",
       "</div>"
      ],
      "text/plain": [
       "   CustomerKey  Recency  Frequency  Monetary  R_Score  F_Score  M_Score  \\\n",
       "0        11000      271          8   8248.99        2        5        5   \n",
       "1        11001       50         11   6383.88        5        5        5   \n",
       "2        11002      340          4   8114.04        1        4        5   \n",
       "3        11003      264          9   8139.29        2        5        5   \n",
       "4        11004      273          6   8196.01        2        5        5   \n",
       "\n",
       "   RFM_Score  \n",
       "0         12  \n",
       "1         15  \n",
       "2         10  \n",
       "3         12  \n",
       "4         12  "
      ]
     },
     "execution_count": 7,
     "metadata": {},
     "output_type": "execute_result"
    }
   ],
   "source": [
    "# Recency: lower is better, so reverse the labels\n",
    "rfm['R_Score'] = pd.qcut(rfm['Recency'], 5, labels=[5,4,3,2,1]).astype(int)\n",
    "rfm['F_Score'] = pd.qcut(rfm['Frequency'].rank(method='first'), 5, labels=[1,2,3,4,5]).astype(int)\n",
    "rfm['M_Score'] = pd.qcut(rfm['Monetary'], 5, labels=[1,2,3,4,5]).astype(int)\n",
    "\n",
    "# Combine scores\n",
    "rfm['RFM_Score'] = rfm['R_Score'] + rfm['F_Score'] + rfm['M_Score']\n",
    "rfm.head()\n"
   ]
  },
  {
   "cell_type": "markdown",
   "id": "e7068313",
   "metadata": {},
   "source": [
    "# Segment Customers based on RFM Score\n"
   ]
  },
  {
   "cell_type": "code",
   "execution_count": 8,
   "id": "f696d1db",
   "metadata": {},
   "outputs": [],
   "source": [
    "def rfm_segment(row):\n",
    "    # Define threshold for \"Recent Customers\" (e.g., Recency <= 30 days)\n",
    "    if row['Recency'] <= 30:\n",
    "        return 'Recent Customer'\n",
    "    elif row['RFM_Score'] >= 13:\n",
    "        return 'Champions'\n",
    "    elif row['RFM_Score'] >= 10:\n",
    "        return 'Loyal'\n",
    "    elif row['RFM_Score'] >= 7:\n",
    "        return 'Potential'\n",
    "    else:\n",
    "        return 'At Risk'\n",
    "\n",
    "rfm['RFM_Segment'] = rfm.apply(rfm_segment, axis=1)"
   ]
  },
  {
   "cell_type": "code",
   "execution_count": 9,
   "id": "298654b8",
   "metadata": {},
   "outputs": [
    {
     "data": {
      "text/plain": [
       "0        Loyal\n",
       "1    Champions\n",
       "2        Loyal\n",
       "3        Loyal\n",
       "4        Loyal\n",
       "Name: RFM_Segment, dtype: object"
      ]
     },
     "execution_count": 9,
     "metadata": {},
     "output_type": "execute_result"
    }
   ],
   "source": [
    "rfm['RFM_Segment'].head()"
   ]
  },
  {
   "cell_type": "markdown",
   "id": "402e2040",
   "metadata": {},
   "source": [
    "# Visualization"
   ]
  },
  {
   "cell_type": "code",
   "execution_count": 10,
   "id": "40a678bb",
   "metadata": {},
   "outputs": [
    {
     "name": "stdout",
     "output_type": "stream",
     "text": [
      "RFM_Segment\n",
      "Potential          5807\n",
      "Loyal              5396\n",
      "At Risk            4123\n",
      "Champions          2260\n",
      "Recent Customer     898\n",
      "Name: count, dtype: int64\n",
      "                    Recency  Frequency     Monetary\n",
      "RFM_Segment                                        \n",
      "At Risk          273.169294   1.709435   217.898537\n",
      "Champions         88.550442   5.645575  4481.790718\n",
      "Loyal            155.274092   3.972572  2323.520085\n",
      "Potential        230.770277   2.530394   980.371500\n",
      "Recent Customer   15.325167   4.967706   112.141258\n"
     ]
    }
   ],
   "source": [
    "# Segment profile\n",
    "print(rfm['RFM_Segment'].value_counts())\n",
    "print(rfm.groupby('RFM_Segment')[['Recency', 'Frequency', 'Monetary']].mean())"
   ]
  },
  {
   "cell_type": "markdown",
   "id": "fde9bb43",
   "metadata": {},
   "source": [
    "Bar Chart"
   ]
  },
  {
   "cell_type": "code",
   "execution_count": 11,
   "id": "960c04de",
   "metadata": {},
   "outputs": [
    {
     "name": "stderr",
     "output_type": "stream",
     "text": [
      "/tmp/ipykernel_7358/2598667087.py:12: FutureWarning: \n",
      "\n",
      "Passing `palette` without assigning `hue` is deprecated and will be removed in v0.14.0. Assign the `x` variable to `hue` and set `legend=False` for the same effect.\n",
      "\n",
      "  sns.countplot(\n"
     ]
    },
    {
     "data": {
      "image/png": "[encoded data removed]",
      "text/plain": [
       "<Figure size 576x360 with 1 Axes>"
      ]
     },
     "metadata": {
      "needs_background": "light"
     },
     "output_type": "display_data"
    }
   ],
   "source": [
    "# Define consistent colors for each RFM segment\n",
    "segment_colors = {\n",
    "    'Champions': 'green',\n",
    "    'Loyal': 'blue',\n",
    "    'Potential': 'orange',\n",
    "    'At Risk': 'red',\n",
    "    'Recent Customer' : 'purple'\n",
    "}\n",
    "\n",
    "# Bar plot with consistent colors\n",
    "plt.figure(figsize=(8,5))\n",
    "sns.countplot(\n",
    "    data=rfm, \n",
    "    x='RFM_Segment', \n",
    "    order=['Champions', 'Loyal', 'Potential', 'At Risk', 'Recent Customer'],\n",
    "    palette=segment_colors\n",
    ")\n",
    "plt.title('Customer Count by RFM Segment')\n",
    "plt.xlabel('RFM Segment')\n",
    "plt.ylabel('Number of Customers')\n",
    "plt.show()"
   ]
  },
  {
   "cell_type": "markdown",
   "id": "2bb7ecf2",
   "metadata": {},
   "source": [
    "# Pie chart of customer distribution by RFM Segment"
   ]
  },
  {
   "cell_type": "code",
   "execution_count": 12,
   "id": "c3363b67",
   "metadata": {},
   "outputs": [
    {
     "data": {
      "image/png": "[encoded data removed]",
      "text/plain": [
       "<Figure size 576x576 with 1 Axes>"
      ]
     },
     "metadata": {},
     "output_type": "display_data"
    }
   ],
   "source": [
    "# Pie chart with consistent colors\n",
    "plt.figure(figsize=(8, 8))\n",
    "segment_counts = rfm['RFM_Segment'].value_counts()\n",
    "colors = [segment_colors[segment] for segment in segment_counts.index]\n",
    "plt.pie(\n",
    "    segment_counts,\n",
    "    labels=segment_counts.index,\n",
    "    autopct='%1.1f%%',\n",
    "    startangle=140,\n",
    "    colors=colors\n",
    ")\n",
    "plt.title('Customer Distribution by RFM Segment',y=1.03)\n",
    "plt.axis('equal')  # Equal aspect ratio ensures the pie is drawn as a circle.\n",
    "plt.show()"
   ]
  },
  {
   "cell_type": "markdown",
   "id": "7e274038",
   "metadata": {},
   "source": [
    "Export dataframe for further analysis"
   ]
  },
  {
   "cell_type": "code",
   "execution_count": 13,
   "id": "8c49d89e",
   "metadata": {},
   "outputs": [],
   "source": [
    "rfm.to_csv(\"rfm_customer_segmented.csv\", index = False)"
   ]
  },
  {
   "cell_type": "markdown",
   "id": "dfc22697",
   "metadata": {},
   "source": [
    "# Conclusion"
   ]
  },
  {
   "cell_type": "markdown",
   "id": "adfb618b",
   "metadata": {},
   "source": [
    "1) R stands for recency (how many days since the last purchase?)\n",
    "   F stands for frequency (how many times the transaction occurs)\n",
    "   M stands for Monetary(how much money spend?)\n",
    "\n",
    "2) Source :- AdventureworksDatabase\n",
    "\n",
    "3) Upon completing this segmentation, it is clear that RFM analysis is a powerful method for businesses to better understand their customer base. By evaluating customers based on how recently they made a purchase (Recency), how often they buy (Frequency), and how much they spend (Monetary), RFM segmentation enables organizations to categorize customers into meaningful groups. Each segment reveals unique behaviors and preferences, allowing companies to tailor their marketing strategies and services more effectively to meet the specific needs of different customer groups.\n",
    "\n",
    " => Since the \"Potential\" segment makes up the largest proportion of customers (31.4%), this indicates a significant group with the capacity to become more valuable. By engaging and nurturing these customers with targeted offers and personalized communication, the business can potentially convert them into loyal or high-value clients.\n",
    " \n",
    " => With 29.2% of customers classified as \"Loyal,\" the business has a strong base of repeat buyers who consistently engage with its products or services. This substantial segment presents an excellent opportunity for upselling, cross-selling, and fostering long-term relationships to maximize customer lifetime value.\n",
    "\n",
    " => Since the \"At Risk\" segment constitutes the third highest proportion at 22.3%, it indicates that a significant portion of customers are at risk of becoming inactive or churning. This highlights the need for targeted retention strategies—such as re-engagement campaigns or personalized offers—to win back and retain these valuable customers before they are lost."
   ]
  }
 ],
 "metadata": {
  "kernelspec": {
   "display_name": "Python 3 (ipykernel)",
   "language": "python",
   "name": "python3"
  },
  "language_info": {
   "codemirror_mode": {
    "name": "ipython",
    "version": 3
   },
   "file_extension": ".py",
   "mimetype": "text/x-python",
   "name": "python",
   "nbconvert_exporter": "python",
   "pygments_lexer": "ipython3",
   "version": "3.9.12"
  }
 },
 "nbformat": 4,
 "nbformat_minor": 5
}
